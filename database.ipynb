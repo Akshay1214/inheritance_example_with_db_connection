{
 "cells": [
  {
   "cell_type": "code",
   "execution_count": 95,
   "id": "48165e44",
   "metadata": {},
   "outputs": [],
   "source": [
    "import sqlite3 \n",
    "from Employee import Employee"
   ]
  },
  {
   "cell_type": "code",
   "execution_count": 96,
   "id": "642a2b26",
   "metadata": {
    "collapsed": true
   },
   "outputs": [
    {
     "ename": "OperationalError",
     "evalue": "table employees_n already exists",
     "output_type": "error",
     "traceback": [
      "\u001b[1;31m---------------------------------------------------------------------------\u001b[0m",
      "\u001b[1;31mOperationalError\u001b[0m                          Traceback (most recent call last)",
      "Input \u001b[1;32mIn [96]\u001b[0m, in \u001b[0;36m<cell line: 5>\u001b[1;34m()\u001b[0m\n\u001b[0;32m      1\u001b[0m conn \u001b[38;5;241m=\u001b[39m sqlite3\u001b[38;5;241m.\u001b[39mconnect(\u001b[38;5;124m'\u001b[39m\u001b[38;5;124mMydatabase.db\u001b[39m\u001b[38;5;124m'\u001b[39m)\n\u001b[0;32m      2\u001b[0m c \u001b[38;5;241m=\u001b[39m conn\u001b[38;5;241m.\u001b[39mcursor()\n\u001b[1;32m----> 5\u001b[0m \u001b[43mc\u001b[49m\u001b[38;5;241;43m.\u001b[39;49m\u001b[43mexecute\u001b[49m\u001b[43m(\u001b[49m\u001b[38;5;124;43m\"\"\"\u001b[39;49m\u001b[38;5;124;43mCREATE TABLE employees_n (\u001b[39;49m\n\u001b[0;32m      6\u001b[0m \u001b[38;5;124;43m            first text,\u001b[39;49m\n\u001b[0;32m      7\u001b[0m \u001b[38;5;124;43m            last text,\u001b[39;49m\n\u001b[0;32m      8\u001b[0m \u001b[38;5;124;43m            pay integer\u001b[39;49m\n\u001b[0;32m      9\u001b[0m \u001b[38;5;124;43m            )\u001b[39;49m\u001b[38;5;124;43m\"\"\"\u001b[39;49m\u001b[43m)\u001b[49m\n\u001b[0;32m     10\u001b[0m conn\u001b[38;5;241m.\u001b[39mcommit()\n",
      "\u001b[1;31mOperationalError\u001b[0m: table employees_n already exists"
     ]
    }
   ],
   "source": [
    "conn = sqlite3.connect('Mydatabase.db')\n",
    "c = conn.cursor()\n",
    "\n",
    "\n",
    "c.execute(\"\"\"CREATE TABLE employees_n (\n",
    "            first text,\n",
    "            last text,\n",
    "            pay integer\n",
    "            )\"\"\")\n",
    "conn.commit()"
   ]
  },
  {
   "cell_type": "code",
   "execution_count": 97,
   "id": "d5bbcdb9",
   "metadata": {},
   "outputs": [],
   "source": [
    "def insert_emp(emp):\n",
    "    with conn:\n",
    "        c.execute(\"INSERT INTO employees_n VALUES (:first_name, :last_name, :salary)\", \n",
    "                  {'first_name':emp.first_name, 'last_name':emp.last_name, 'salary':emp.salary})"
   ]
  },
  {
   "cell_type": "code",
   "execution_count": 77,
   "id": "c793c350",
   "metadata": {},
   "outputs": [
    {
     "name": "stdout",
     "output_type": "stream",
     "text": [
      "Enter first name:- Akshay\n",
      "Enter last name:- Deokar\n",
      "Enter salary:- 35000\n"
     ]
    }
   ],
   "source": [
    "a = input(\"Enter first name:- \")\n",
    "b= input(\"Enter last name:- \")\n",
    "c = input(\"Enter salary:- \")"
   ]
  },
  {
   "cell_type": "code",
   "execution_count": 86,
   "id": "78686f94",
   "metadata": {},
   "outputs": [],
   "source": [
    "emp_1 = Employee(a, b, int(c))"
   ]
  },
  {
   "cell_type": "code",
   "execution_count": 94,
   "id": "3a241d78",
   "metadata": {},
   "outputs": [
    {
     "data": {
      "text/plain": [
       "35100"
      ]
     },
     "execution_count": 94,
     "metadata": {},
     "output_type": "execute_result"
    }
   ],
   "source": [
    "emp_1.salary"
   ]
  },
  {
   "cell_type": "code",
   "execution_count": 98,
   "id": "71c9fc75",
   "metadata": {},
   "outputs": [],
   "source": [
    "insert_emp(emp_1)"
   ]
  },
  {
   "cell_type": "code",
   "execution_count": null,
   "id": "34574f9e",
   "metadata": {},
   "outputs": [],
   "source": [
    "emp_1 = Employee(\"Rahul\", \"Chavan\", 10000)"
   ]
  },
  {
   "cell_type": "code",
   "execution_count": null,
   "id": "71b6cce0",
   "metadata": {},
   "outputs": [],
   "source": []
  }
 ],
 "metadata": {
  "kernelspec": {
   "display_name": "Python 3 (ipykernel)",
   "language": "python",
   "name": "python3"
  },
  "language_info": {
   "codemirror_mode": {
    "name": "ipython",
    "version": 3
   },
   "file_extension": ".py",
   "mimetype": "text/x-python",
   "name": "python",
   "nbconvert_exporter": "python",
   "pygments_lexer": "ipython3",
   "version": "3.10.4"
  }
 },
 "nbformat": 4,
 "nbformat_minor": 5
}
