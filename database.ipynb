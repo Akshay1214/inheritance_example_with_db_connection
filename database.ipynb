{
 "cells": [
  {
   "cell_type": "code",
   "execution_count": 95,
   "id": "1d2a7965",
   "metadata": {},
   "outputs": [],
   "source": [
    "import sqlite3 \n",
    "from Employee import Employee"
   ]
  },
  {
   "cell_type": "code",
   "execution_count": 96,
   "id": "f93c4129",
   "metadata": {
    "collapsed": true
   },
   "outputs": [
    {
     "ename": "OperationalError",
     "evalue": "table employees_n already exists",
     "output_type": "error",
     "traceback": [
      "\u001b[1;31m---------------------------------------------------------------------------\u001b[0m",
      "\u001b[1;31mOperationalError\u001b[0m                          Traceback (most recent call last)",
      "Input \u001b[1;32mIn [96]\u001b[0m, in \u001b[0;36m<cell line: 5>\u001b[1;34m()\u001b[0m\n\u001b[0;32m      1\u001b[0m conn \u001b[38;5;241m=\u001b[39m sqlite3\u001b[38;5;241m.\u001b[39mconnect(\u001b[38;5;124m'\u001b[39m\u001b[38;5;124mMydatabase.db\u001b[39m\u001b[38;5;124m'\u001b[39m)\n\u001b[0;32m      2\u001b[0m c \u001b[38;5;241m=\u001b[39m conn\u001b[38;5;241m.\u001b[39mcursor()\n\u001b[1;32m----> 5\u001b[0m \u001b[43mc\u001b[49m\u001b[38;5;241;43m.\u001b[39;49m\u001b[43mexecute\u001b[49m\u001b[43m(\u001b[49m\u001b[38;5;124;43m\"\"\"\u001b[39;49m\u001b[38;5;124;43mCREATE TABLE employees_n (\u001b[39;49m\n\u001b[0;32m      6\u001b[0m \u001b[38;5;124;43m            first text,\u001b[39;49m\n\u001b[0;32m      7\u001b[0m \u001b[38;5;124;43m            last text,\u001b[39;49m\n\u001b[0;32m      8\u001b[0m \u001b[38;5;124;43m            pay integer\u001b[39;49m\n\u001b[0;32m      9\u001b[0m \u001b[38;5;124;43m            )\u001b[39;49m\u001b[38;5;124;43m\"\"\"\u001b[39;49m\u001b[43m)\u001b[49m\n\u001b[0;32m     10\u001b[0m conn\u001b[38;5;241m.\u001b[39mcommit()\n",
      "\u001b[1;31mOperationalError\u001b[0m: table employees_n already exists"
     ]
    }
   ],
   "source": [
    "conn = sqlite3.connect('Mydatabase.db')\n",
    "c = conn.cursor()\n",
    "\n",
    "\n",
    "c.execute(\"\"\"CREATE TABLE employees_n (\n",
    "            first text,\n",
    "            last text,\n",
    "            pay integer\n",
    "            )\"\"\")\n",
    "conn.commit()"
   ]
  },
  {
   "cell_type": "code",
   "execution_count": 97,
   "id": "80cd074e",
   "metadata": {},
   "outputs": [],
   "source": [
    "def insert_emp(emp):\n",
    "    with conn:\n",
    "        c.execute(\"INSERT INTO employees_n VALUES (:first_name, :last_name, :salary)\", \n",
    "                  {'first_name':emp.first_name, 'last_name':emp.last_name, 'salary':emp.salary})"
   ]
  },
  {
   "cell_type": "code",
   "execution_count": 77,
   "id": "8f27327b",
   "metadata": {},
   "outputs": [
    {
     "name": "stdout",
     "output_type": "stream",
     "text": [
      "Enter first name:- Akshay\n",
      "Enter last name:- Deokar\n",
      "Enter salary:- 35000\n"
     ]
    }
   ],
   "source": [
    "a = input(\"Enter first name:- \")\n",
    "b= input(\"Enter last name:- \")\n",
    "c = input(\"Enter salary:- \")"
   ]
  },
  {
   "cell_type": "code",
   "execution_count": 86,
   "id": "4f826cee",
   "metadata": {},
   "outputs": [],
   "source": [
    "emp_1 = Employee(a, b, int(c))"
   ]
  },
  {
   "cell_type": "code",
   "execution_count": 94,
   "id": "b819a621",
   "metadata": {},
   "outputs": [
    {
     "data": {
      "text/plain": [
       "35100"
      ]
     },
     "execution_count": 94,
     "metadata": {},
     "output_type": "execute_result"
    }
   ],
   "source": [
    "emp_1.salary"
   ]
  },
  {
   "cell_type": "code",
   "execution_count": 98,
   "id": "310f2ef5",
   "metadata": {},
   "outputs": [],
   "source": [
    "insert_emp(emp_1)"
   ]
  },
  {
   "cell_type": "code",
   "execution_count": null,
   "id": "8adf8898",
   "metadata": {},
   "outputs": [],
   "source": [
    "emp_1 = Employee(\"Rahul\", \"Chavan\", 10000)"
   ]
  },
  {
   "cell_type": "code",
   "execution_count": null,
   "id": "57b559a9",
   "metadata": {},
   "outputs": [],
   "source": []
  },
  {
   "cell_type": "code",
   "execution_count": null,
   "id": "f1f12349",
   "metadata": {},
   "outputs": [],
   "source": []
  },
  {
   "cell_type": "code",
   "execution_count": null,
   "id": "e9985bae",
   "metadata": {},
   "outputs": [],
   "source": []
  },
  {
   "cell_type": "code",
   "execution_count": null,
   "id": "051791a0",
   "metadata": {},
   "outputs": [],
   "source": []
  },
  {
   "cell_type": "code",
   "execution_count": null,
   "id": "756aa729",
   "metadata": {},
   "outputs": [],
   "source": []
  },
  {
   "cell_type": "code",
   "execution_count": null,
   "id": "cfdf6037",
   "metadata": {},
   "outputs": [],
   "source": []
  },
  {
   "cell_type": "code",
   "execution_count": null,
   "id": "25094e3b",
   "metadata": {},
   "outputs": [],
   "source": []
  },
  {
   "cell_type": "code",
   "execution_count": null,
   "id": "cfc71b4b",
   "metadata": {},
   "outputs": [],
   "source": []
  },
  {
   "cell_type": "code",
   "execution_count": null,
   "id": "7e63b3f0",
   "metadata": {},
   "outputs": [],
   "source": []
  },
  {
   "cell_type": "code",
   "execution_count": null,
   "id": "41b407e8",
   "metadata": {},
   "outputs": [],
   "source": []
  },
  {
   "cell_type": "code",
   "execution_count": null,
   "id": "a407a0a1",
   "metadata": {},
   "outputs": [],
   "source": []
  },
  {
   "cell_type": "code",
   "execution_count": null,
   "id": "d3f9be60",
   "metadata": {},
   "outputs": [],
   "source": []
  },
  {
   "cell_type": "code",
   "execution_count": null,
   "id": "10eef667",
   "metadata": {},
   "outputs": [],
   "source": []
  },
  {
   "cell_type": "code",
   "execution_count": null,
   "id": "b23fc900",
   "metadata": {},
   "outputs": [],
   "source": []
  },
  {
   "cell_type": "code",
   "execution_count": 69,
   "id": "0bce85a4",
   "metadata": {},
   "outputs": [
    {
     "ename": "OperationalError",
     "evalue": "table employees_n already exists",
     "output_type": "error",
     "traceback": [
      "\u001b[1;31m---------------------------------------------------------------------------\u001b[0m",
      "\u001b[1;31mOperationalError\u001b[0m                          Traceback (most recent call last)",
      "Input \u001b[1;32mIn [69]\u001b[0m, in \u001b[0;36m<cell line: 5>\u001b[1;34m()\u001b[0m\n\u001b[0;32m      1\u001b[0m conn \u001b[38;5;241m=\u001b[39m sqlite3\u001b[38;5;241m.\u001b[39mconnect(\u001b[38;5;124m'\u001b[39m\u001b[38;5;124mMydatabase.db\u001b[39m\u001b[38;5;124m'\u001b[39m)\n\u001b[0;32m      2\u001b[0m c \u001b[38;5;241m=\u001b[39m conn\u001b[38;5;241m.\u001b[39mcursor()\n\u001b[1;32m----> 5\u001b[0m \u001b[43mc\u001b[49m\u001b[38;5;241;43m.\u001b[39;49m\u001b[43mexecute\u001b[49m\u001b[43m(\u001b[49m\u001b[38;5;124;43m\"\"\"\u001b[39;49m\u001b[38;5;124;43mCREATE TABLE employees_n (\u001b[39;49m\n\u001b[0;32m      6\u001b[0m \u001b[38;5;124;43m            first text,\u001b[39;49m\n\u001b[0;32m      7\u001b[0m \u001b[38;5;124;43m            last text,\u001b[39;49m\n\u001b[0;32m      8\u001b[0m \u001b[38;5;124;43m            pay integer\u001b[39;49m\n\u001b[0;32m      9\u001b[0m \u001b[38;5;124;43m            )\u001b[39;49m\u001b[38;5;124;43m\"\"\"\u001b[39;49m\u001b[43m)\u001b[49m\n",
      "\u001b[1;31mOperationalError\u001b[0m: table employees_n already exists"
     ]
    }
   ],
   "source": [
    "conn = sqlite3.connect('Mydatabase.db')\n",
    "c = conn.cursor()\n",
    "\n",
    "\n",
    "c.execute(\"\"\"CREATE TABLE employees_n (\n",
    "            first text,\n",
    "            last text,\n",
    "            pay integer\n",
    "            )\"\"\")"
   ]
  },
  {
   "cell_type": "code",
   "execution_count": 56,
   "id": "8167f040",
   "metadata": {},
   "outputs": [],
   "source": [
    "#res =c. execute(\"SELECT name FROM sqlite_master WHERE type='table';\")"
   ]
  },
  {
   "cell_type": "code",
   "execution_count": 62,
   "id": "310a0fa3",
   "metadata": {},
   "outputs": [],
   "source": [
    "#res.fetchall()"
   ]
  },
  {
   "cell_type": "code",
   "execution_count": 70,
   "id": "3ae8814c",
   "metadata": {},
   "outputs": [
    {
     "ename": "OperationalError",
     "evalue": "table employees already exists",
     "output_type": "error",
     "traceback": [
      "\u001b[1;31m---------------------------------------------------------------------------\u001b[0m",
      "\u001b[1;31mOperationalError\u001b[0m                          Traceback (most recent call last)",
      "Input \u001b[1;32mIn [70]\u001b[0m, in \u001b[0;36m<cell line: 1>\u001b[1;34m()\u001b[0m\n\u001b[1;32m----> 1\u001b[0m \u001b[43mc\u001b[49m\u001b[38;5;241;43m.\u001b[39;49m\u001b[43mexecute\u001b[49m\u001b[43m(\u001b[49m\u001b[38;5;124;43m\"\"\"\u001b[39;49m\n\u001b[0;32m      2\u001b[0m \u001b[38;5;124;43m          CREATE TABLE employees\u001b[39;49m\n\u001b[0;32m      3\u001b[0m \u001b[38;5;124;43m          (first_name TEXT,\u001b[39;49m\n\u001b[0;32m      4\u001b[0m \u001b[38;5;124;43m          last_name TEXT\u001b[39;49m\n\u001b[0;32m      5\u001b[0m \u001b[38;5;124;43m          salary INTEGER\u001b[39;49m\n\u001b[0;32m      6\u001b[0m \u001b[38;5;124;43m          )\u001b[39;49m\u001b[38;5;124;43m\"\"\"\u001b[39;49m\u001b[43m)\u001b[49m\n\u001b[0;32m      7\u001b[0m conn\u001b[38;5;241m.\u001b[39mcommit()\n\u001b[0;32m      8\u001b[0m \u001b[38;5;28;01mdef\u001b[39;00m \u001b[38;5;21minsert_emp\u001b[39m(emp):\n",
      "\u001b[1;31mOperationalError\u001b[0m: table employees already exists"
     ]
    }
   ],
   "source": [
    "# c.execute(\"\"\"\n",
    "#           CREATE TABLE employees\n",
    "#           (first_name TEXT,\n",
    "#           last_name TEXT\n",
    "#           salary INTEGER\n",
    "#           )\"\"\")\n",
    "conn.commit()\n",
    "def insert_emp(emp):\n",
    "    with conn:\n",
    "        c.execute(\"INSERT INTO employees_n VALUES (:first_name, :last_name, :salary)\", \n",
    "                  {'first_name':emp.first_name, 'last_name':emp.last_name, 'salary':emp.salary})\n",
    "\n",
    "#         c.execute(\"INSERT INTO employees VALUES (:first, :last, :pay)\", {'first': emp.first, 'last': emp.last, 'pay': emp.pay})\n",
    "\n",
    "        #     with conn:\n",
    "#         c.execute(\"INSERT INTO employees VALUES (:first_name, :last_name, :salary)\", {'first_name':emp.first_name, 'last_name':emp.last_name, 'salary':emp.salary})\n",
    "\n",
    "# def get_emp_names(last_name):\n",
    "#     c.exceute(\"SELECT * FROM employees WHERE last_name=:last_name\", {'last_name': last_name})\n",
    "#     return c.fetchall()\n",
    "\n",
    "# def raise_salary(emp, salary):\n",
    "#     with conn:\n",
    "#         c.execute('''UPDATE employees SET salary = :salary\n",
    "#                     WHERE first_name = :first_name AND last =: last_name''',\n",
    "#                   {'first_name': emp.first_name, 'last_name': emp.last_name, 'salary': salary})\n",
    "\n",
    "# def remove_emp(emp):\n",
    "#     with conn:\n",
    "#         c.exceute(\"DELETE from emloyees WHERE first_name = :first_name AND last_name =:last_name\",\n",
    "#                   {'first_name':emp.first_name, 'last_name':emp.last_name})       "
   ]
  },
  {
   "cell_type": "code",
   "execution_count": 71,
   "id": "886ad3b8",
   "metadata": {},
   "outputs": [],
   "source": [
    "emp_1 = Employee(\"Rahul\", \"Chavan\", 10000)\n",
    "emp_2 = Employee(\"Mahesh\", \"Pawar\", 15000)\n",
    "emp_3 = Employee(\"Suresh\", \"Chavan\", 20000)"
   ]
  },
  {
   "cell_type": "code",
   "execution_count": 66,
   "id": "831d36cd",
   "metadata": {},
   "outputs": [],
   "source": [
    "#c.execute(\"INSERT INTO employees_n VALUES (emp_1.first_name, emp_1.last_name, emp_1.salary)\")"
   ]
  },
  {
   "cell_type": "code",
   "execution_count": 63,
   "id": "78fd4dff",
   "metadata": {},
   "outputs": [],
   "source": [
    "#emp_1.first_name"
   ]
  },
  {
   "cell_type": "code",
   "execution_count": 64,
   "id": "7bbf4949",
   "metadata": {},
   "outputs": [],
   "source": [
    "#insert_emp(emp_1)"
   ]
  },
  {
   "cell_type": "code",
   "execution_count": 67,
   "id": "33f6a247",
   "metadata": {},
   "outputs": [],
   "source": [
    "insert_emp(emp_1)\n",
    "insert_emp(emp_2)\n",
    "insert_emp(emp_3)\n",
    "\n",
    "# emps = get_emp_names(\"Chavan\")\n",
    "# print(emps)\n",
    "\n",
    "# raise_salary(emp_2, 18000)\n",
    "# remove_emp(emp_1)\n",
    "\n"
   ]
  },
  {
   "cell_type": "code",
   "execution_count": null,
   "id": "f781219a",
   "metadata": {},
   "outputs": [],
   "source": []
  }
 ],
 "metadata": {
  "kernelspec": {
   "display_name": "Python 3 (ipykernel)",
   "language": "python",
   "name": "python3"
  },
  "language_info": {
   "codemirror_mode": {
    "name": "ipython",
    "version": 3
   },
   "file_extension": ".py",
   "mimetype": "text/x-python",
   "name": "python",
   "nbconvert_exporter": "python",
   "pygments_lexer": "ipython3",
   "version": "3.10.4"
  }
 },
 "nbformat": 4,
 "nbformat_minor": 5
}
