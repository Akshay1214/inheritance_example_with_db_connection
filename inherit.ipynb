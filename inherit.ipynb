{
 "cells": [
  {
   "cell_type": "code",
   "execution_count": 39,
   "id": "05dea7c6",
   "metadata": {},
   "outputs": [],
   "source": [
    "class Employee:\n",
    "    def __init__(self, first_name, last_name, salary):\n",
    "        company = 'eclerx'\n",
    "        self.first_name = first_name\n",
    "        self.last_name = last_name\n",
    "        self.email_address = first_name + \".\" + last_name + '@' + company + '.com'\n",
    "        self.salary = salary\n",
    "    def full_name(self):\n",
    "        full_name = self.first_name + (\" \") + self.last_name\n",
    "        return full_name\n",
    "    def apply_raise(self):\n",
    "        apply_raise = self.salary * 0.15\n",
    "        return apply_raise        "
   ]
  },
  {
   "cell_type": "code",
   "execution_count": 40,
   "id": "59c5aeb5",
   "metadata": {},
   "outputs": [],
   "source": [
    "class Developer(Employee):\n",
    "    def __init__(self, first_name, last_name, salary, technologies):\n",
    "        super().__init__(first_name, last_name, salary)\n",
    "        self.technologies = technologies"
   ]
  },
  {
   "cell_type": "code",
   "execution_count": 41,
   "id": "fbf61c48",
   "metadata": {},
   "outputs": [],
   "source": [
    "class Manager(Employee):\n",
    "    def __init__(self, first_name, last_name, salary, employees=None):\n",
    "        super().__init__(first_name, last_name, salary)\n",
    "        if employees is None:\n",
    "            self.employees = []\n",
    "        else:\n",
    "            self.employees = employees\n",
    "    def add_reportee(self, emp):\n",
    "        if emp not in self.employees:\n",
    "            self.employees.append(emp)\n",
    "    def remove_reportee(self, emp):\n",
    "        if emp in self.employees:\n",
    "            self.employees.remove(emp)\n",
    "    def display_reportee(self):\n",
    "        for emp in self.employees:\n",
    "            print(\"Reportees are:- \", emp.full_name())"
   ]
  },
  {
   "cell_type": "code",
   "execution_count": 42,
   "id": "8046a5ff",
   "metadata": {},
   "outputs": [],
   "source": [
    "# emp_1 = Developer(\"Rahul\", \"Chavan\", 10000, \"ML\")\n",
    "# emp_2 = Developer(\"Mahesh\", \"Pawar\", 15000, \"AI\")\n",
    "# emp_3 = Developer(\"Suresh\", \"Chavan\", 20000, \"SE\")\n",
    "\n",
    "# mng_1 = Manager(\"Prakash\", \"Shinde\", 30000, [emp_1])\n",
    "# print(mng_1.email_address)\n",
    "# mng_1.display_reportee()\n",
    "# print(\"=\"*80)\n",
    "# mng_1.add_reportee(dev_2)\n",
    "# mng_1.display_reportee()\n",
    "# print(\"=\"*80)\n",
    "# mng_1.add_reportee(dev_1)\n",
    "# mng_1.display_reportee()\n",
    "# print(\"=\"*80)\n",
    "# mng_1.remove_reportee(dev_1)\n",
    "# mng_1.display_reportee()"
   ]
  }
 ],
 "metadata": {
  "kernelspec": {
   "display_name": "Python 3 (ipykernel)",
   "language": "python",
   "name": "python3"
  },
  "language_info": {
   "codemirror_mode": {
    "name": "ipython",
    "version": 3
   },
   "file_extension": ".py",
   "mimetype": "text/x-python",
   "name": "python",
   "nbconvert_exporter": "python",
   "pygments_lexer": "ipython3",
   "version": "3.10.4"
  }
 },
 "nbformat": 4,
 "nbformat_minor": 5
}
